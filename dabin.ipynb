{
 "cells": [
  {
   "cell_type": "markdown",
   "id": "aaea04cfd3f16454",
   "metadata": {},
   "source": [
    "# RAG with Elastic and Llama3 using Llamaindex\n",
    "\n",
    "This interactive notebook uses `Llamaindex` to process fictional workplace documents and uses `Llama3` running locally using `Ollama` to transform these documents into embeddings and store them into `Elasticsearch`. We then ask a question, retrieve the relevant documents from `Elasticsearch` and use `Llama3` to provide a response. \n",
    "\n",
    "**_Note_** : _Llama3 is expected to be running using `Ollama` on the same machine where you will be running this notebook._"
   ]
  },
  {
   "cell_type": "markdown",
   "id": "75b9e790a7e535b0",
   "metadata": {},
   "source": [
    "## Requirements\n",
    "\n",
    "For this example, you will need:\n",
    "\n",
    "- An Elastic deployment\n",
    "  - We'll be using [Elastic Cloud](https://www.elastic.co/guide/en/cloud/current/ec-getting-started.html) for this example (available with a [free trial](https://cloud.elastic.co/registration?onboarding_token=vectorsearch&utm_source=github&utm_content=elasticsearch-labs-notebook))\n",
    "  - For LLM we will be using [Ollama](https://ollama.com/) and [Llama3](https://ollama.com/library/llama3) configured locally.  \n",
    "\n",
    "### Use Elastic Cloud\n",
    "\n",
    "If you don't have an Elastic Cloud deployment, follow these steps to create one.\n",
    "\n",
    "1. Go to [Elastic cloud Registration](https://cloud.elastic.co/registration?onboarding_token=vectorsearch&utm_source=github&utm_content=elasticsearch-labs-notebook) and sign up for a free trial\n",
    "2. Select **Create Deployment** and follow the instructions"
   ]
  },
  {
   "cell_type": "markdown",
   "id": "89777ad31dbed1fe",
   "metadata": {},
   "source": [
    "## Install required dependencies for LlamaIndex and Elasticsearch\n",
    "\n",
    "First we install the packages we need for this example."
   ]
  },
  {
   "cell_type": "code",
   "execution_count": 2,
   "id": "c33613aab394f7d2",
   "metadata": {},
   "outputs": [
    {
     "name": "stdout",
     "output_type": "stream",
     "text": [
      "Requirement already satisfied: llama-index in c:\\users\\administrator\\appdata\\local\\programs\\python\\python313\\lib\\site-packages (0.12.35)\n",
      "Requirement already satisfied: llama-index-cli in c:\\users\\administrator\\appdata\\local\\programs\\python\\python313\\lib\\site-packages (0.4.1)\n",
      "Requirement already satisfied: llama-index-core in c:\\users\\administrator\\appdata\\local\\programs\\python\\python313\\lib\\site-packages (0.12.35)\n",
      "Requirement already satisfied: llama-index-embeddings-elasticsearch in c:\\users\\administrator\\appdata\\local\\programs\\python\\python313\\lib\\site-packages (0.3.0)\n",
      "Requirement already satisfied: llama-index-embeddings-ollama in c:\\users\\administrator\\appdata\\local\\programs\\python\\python313\\lib\\site-packages (0.6.0)\n",
      "Requirement already satisfied: llama-index-legacy in c:\\users\\administrator\\appdata\\local\\programs\\python\\python313\\lib\\site-packages (0.9.48.post4)\n",
      "Requirement already satisfied: llama-index-llms-ollama in c:\\users\\administrator\\appdata\\local\\programs\\python\\python313\\lib\\site-packages (0.5.4)\n",
      "Requirement already satisfied: llama-index-readers-elasticsearch in c:\\users\\administrator\\appdata\\local\\programs\\python\\python313\\lib\\site-packages (0.3.1)\n",
      "Requirement already satisfied: llama-index-readers-file in c:\\users\\administrator\\appdata\\local\\programs\\python\\python313\\lib\\site-packages (0.4.7)\n",
      "Requirement already satisfied: llama-index-vector-stores-elasticsearch in c:\\users\\administrator\\appdata\\local\\programs\\python\\python313\\lib\\site-packages (0.4.3)\n",
      "Requirement already satisfied: llamaindex-py-client in c:\\users\\administrator\\appdata\\local\\programs\\python\\python313\\lib\\site-packages (0.1.19)\n",
      "Requirement already satisfied: llama-index-agent-openai<0.5,>=0.4.0 in c:\\users\\administrator\\appdata\\local\\programs\\python\\python313\\lib\\site-packages (from llama-index) (0.4.7)\n",
      "Requirement already satisfied: llama-index-embeddings-openai<0.4,>=0.3.0 in c:\\users\\administrator\\appdata\\local\\programs\\python\\python313\\lib\\site-packages (from llama-index) (0.3.1)\n",
      "Requirement already satisfied: llama-index-indices-managed-llama-cloud>=0.4.0 in c:\\users\\administrator\\appdata\\local\\programs\\python\\python313\\lib\\site-packages (from llama-index) (0.6.11)\n",
      "Requirement already satisfied: llama-index-llms-openai<0.4,>=0.3.0 in c:\\users\\administrator\\appdata\\local\\programs\\python\\python313\\lib\\site-packages (from llama-index) (0.3.38)\n",
      "Requirement already satisfied: llama-index-multi-modal-llms-openai<0.5,>=0.4.0 in c:\\users\\administrator\\appdata\\local\\programs\\python\\python313\\lib\\site-packages (from llama-index) (0.4.3)\n",
      "Requirement already satisfied: llama-index-program-openai<0.4,>=0.3.0 in c:\\users\\administrator\\appdata\\local\\programs\\python\\python313\\lib\\site-packages (from llama-index) (0.3.1)\n",
      "Requirement already satisfied: llama-index-question-gen-openai<0.4,>=0.3.0 in c:\\users\\administrator\\appdata\\local\\programs\\python\\python313\\lib\\site-packages (from llama-index) (0.3.0)\n",
      "Requirement already satisfied: llama-index-readers-llama-parse>=0.4.0 in c:\\users\\administrator\\appdata\\local\\programs\\python\\python313\\lib\\site-packages (from llama-index) (0.4.0)\n",
      "Requirement already satisfied: nltk>3.8.1 in c:\\users\\administrator\\appdata\\local\\programs\\python\\python313\\lib\\site-packages (from llama-index) (3.9.1)\n",
      "Requirement already satisfied: aiohttp<4,>=3.8.6 in c:\\users\\administrator\\appdata\\local\\programs\\python\\python313\\lib\\site-packages (from llama-index-core) (3.11.18)\n",
      "Requirement already satisfied: aiosqlite in c:\\users\\administrator\\appdata\\local\\programs\\python\\python313\\lib\\site-packages (from llama-index-core) (0.21.0)\n",
      "Requirement already satisfied: banks<3,>=2.0.0 in c:\\users\\administrator\\appdata\\local\\programs\\python\\python313\\lib\\site-packages (from llama-index-core) (2.1.2)\n",
      "Requirement already satisfied: dataclasses-json in c:\\users\\administrator\\appdata\\local\\programs\\python\\python313\\lib\\site-packages (from llama-index-core) (0.6.7)\n",
      "Requirement already satisfied: deprecated>=1.2.9.3 in c:\\users\\administrator\\appdata\\local\\programs\\python\\python313\\lib\\site-packages (from llama-index-core) (1.2.18)\n",
      "Requirement already satisfied: dirtyjson<2,>=1.0.8 in c:\\users\\administrator\\appdata\\local\\programs\\python\\python313\\lib\\site-packages (from llama-index-core) (1.0.8)\n",
      "Requirement already satisfied: filetype<2,>=1.2.0 in c:\\users\\administrator\\appdata\\local\\programs\\python\\python313\\lib\\site-packages (from llama-index-core) (1.2.0)\n",
      "Requirement already satisfied: fsspec>=2023.5.0 in c:\\users\\administrator\\appdata\\local\\programs\\python\\python313\\lib\\site-packages (from llama-index-core) (2025.3.2)\n",
      "Requirement already satisfied: httpx in c:\\users\\administrator\\appdata\\local\\programs\\python\\python313\\lib\\site-packages (from llama-index-core) (0.28.1)\n",
      "Requirement already satisfied: nest-asyncio<2,>=1.5.8 in c:\\users\\administrator\\appdata\\roaming\\python\\python313\\site-packages (from llama-index-core) (1.6.0)\n",
      "Requirement already satisfied: networkx>=3.0 in c:\\users\\administrator\\appdata\\local\\programs\\python\\python313\\lib\\site-packages (from llama-index-core) (3.4.2)\n",
      "Requirement already satisfied: numpy in c:\\users\\administrator\\appdata\\local\\programs\\python\\python313\\lib\\site-packages (from llama-index-core) (2.2.5)\n",
      "Requirement already satisfied: pillow>=9.0.0 in c:\\users\\administrator\\appdata\\local\\programs\\python\\python313\\lib\\site-packages (from llama-index-core) (11.2.1)\n",
      "Requirement already satisfied: pydantic>=2.8.0 in c:\\users\\administrator\\appdata\\local\\programs\\python\\python313\\lib\\site-packages (from llama-index-core) (2.11.4)\n",
      "Requirement already satisfied: pyyaml>=6.0.1 in c:\\users\\administrator\\appdata\\local\\programs\\python\\python313\\lib\\site-packages (from llama-index-core) (6.0.2)\n",
      "Requirement already satisfied: requests>=2.31.0 in c:\\users\\administrator\\appdata\\local\\programs\\python\\python313\\lib\\site-packages (from llama-index-core) (2.32.3)\n",
      "Requirement already satisfied: sqlalchemy>=1.4.49 in c:\\users\\administrator\\appdata\\local\\programs\\python\\python313\\lib\\site-packages (from sqlalchemy[asyncio]>=1.4.49->llama-index-core) (2.0.41)\n",
      "Requirement already satisfied: tenacity!=8.4.0,<10.0.0,>=8.2.0 in c:\\users\\administrator\\appdata\\local\\programs\\python\\python313\\lib\\site-packages (from llama-index-core) (8.5.0)\n",
      "Requirement already satisfied: tiktoken>=0.7.0 in c:\\users\\administrator\\appdata\\local\\programs\\python\\python313\\lib\\site-packages (from llama-index-core) (0.9.0)\n",
      "Requirement already satisfied: tqdm<5,>=4.66.1 in c:\\users\\administrator\\appdata\\local\\programs\\python\\python313\\lib\\site-packages (from llama-index-core) (4.67.1)\n",
      "Requirement already satisfied: typing-extensions>=4.5.0 in c:\\users\\administrator\\appdata\\local\\programs\\python\\python313\\lib\\site-packages (from llama-index-core) (4.13.2)\n",
      "Requirement already satisfied: typing-inspect>=0.8.0 in c:\\users\\administrator\\appdata\\local\\programs\\python\\python313\\lib\\site-packages (from llama-index-core) (0.9.0)\n",
      "Requirement already satisfied: wrapt in c:\\users\\administrator\\appdata\\local\\programs\\python\\python313\\lib\\site-packages (from llama-index-core) (1.17.2)\n",
      "Requirement already satisfied: elasticsearch<9.0.0,>=8.12.0 in c:\\users\\administrator\\appdata\\local\\programs\\python\\python313\\lib\\site-packages (from llama-index-embeddings-elasticsearch) (8.18.1)\n",
      "Requirement already satisfied: ollama>=0.3.1 in c:\\users\\administrator\\appdata\\local\\programs\\python\\python313\\lib\\site-packages (from llama-index-embeddings-ollama) (0.4.8)\n",
      "Requirement already satisfied: openai>=1.1.0 in c:\\users\\administrator\\appdata\\local\\programs\\python\\python313\\lib\\site-packages (from llama-index-legacy) (1.78.1)\n",
      "Requirement already satisfied: pandas in c:\\users\\administrator\\appdata\\local\\programs\\python\\python313\\lib\\site-packages (from llama-index-legacy) (2.2.3)\n",
      "Requirement already satisfied: beautifulsoup4<5.0.0,>=4.12.3 in c:\\users\\administrator\\appdata\\local\\programs\\python\\python313\\lib\\site-packages (from llama-index-readers-file) (4.13.4)\n",
      "Requirement already satisfied: pypdf<6.0.0,>=5.1.0 in c:\\users\\administrator\\appdata\\local\\programs\\python\\python313\\lib\\site-packages (from llama-index-readers-file) (5.5.0)\n",
      "Requirement already satisfied: striprtf<0.0.27,>=0.0.26 in c:\\users\\administrator\\appdata\\local\\programs\\python\\python313\\lib\\site-packages (from llama-index-readers-file) (0.0.26)\n",
      "Requirement already satisfied: aiohappyeyeballs>=2.3.0 in c:\\users\\administrator\\appdata\\local\\programs\\python\\python313\\lib\\site-packages (from aiohttp<4,>=3.8.6->llama-index-core) (2.6.1)\n",
      "Requirement already satisfied: aiosignal>=1.1.2 in c:\\users\\administrator\\appdata\\local\\programs\\python\\python313\\lib\\site-packages (from aiohttp<4,>=3.8.6->llama-index-core) (1.3.2)\n",
      "Requirement already satisfied: attrs>=17.3.0 in c:\\users\\administrator\\appdata\\local\\programs\\python\\python313\\lib\\site-packages (from aiohttp<4,>=3.8.6->llama-index-core) (25.3.0)\n",
      "Requirement already satisfied: frozenlist>=1.1.1 in c:\\users\\administrator\\appdata\\local\\programs\\python\\python313\\lib\\site-packages (from aiohttp<4,>=3.8.6->llama-index-core) (1.6.0)\n",
      "Requirement already satisfied: multidict<7.0,>=4.5 in c:\\users\\administrator\\appdata\\local\\programs\\python\\python313\\lib\\site-packages (from aiohttp<4,>=3.8.6->llama-index-core) (6.4.3)\n",
      "Requirement already satisfied: propcache>=0.2.0 in c:\\users\\administrator\\appdata\\local\\programs\\python\\python313\\lib\\site-packages (from aiohttp<4,>=3.8.6->llama-index-core) (0.3.1)\n",
      "Requirement already satisfied: yarl<2.0,>=1.17.0 in c:\\users\\administrator\\appdata\\local\\programs\\python\\python313\\lib\\site-packages (from aiohttp<4,>=3.8.6->llama-index-core) (1.20.0)\n",
      "Requirement already satisfied: griffe in c:\\users\\administrator\\appdata\\local\\programs\\python\\python313\\lib\\site-packages (from banks<3,>=2.0.0->llama-index-core) (1.7.3)\n",
      "Requirement already satisfied: jinja2 in c:\\users\\administrator\\appdata\\local\\programs\\python\\python313\\lib\\site-packages (from banks<3,>=2.0.0->llama-index-core) (3.1.6)\n",
      "Requirement already satisfied: platformdirs in c:\\users\\administrator\\appdata\\roaming\\python\\python313\\site-packages (from banks<3,>=2.0.0->llama-index-core) (4.3.8)\n",
      "Requirement already satisfied: soupsieve>1.2 in c:\\users\\administrator\\appdata\\local\\programs\\python\\python313\\lib\\site-packages (from beautifulsoup4<5.0.0,>=4.12.3->llama-index-readers-file) (2.7)\n",
      "Requirement already satisfied: elastic-transport<9,>=8.15.1 in c:\\users\\administrator\\appdata\\local\\programs\\python\\python313\\lib\\site-packages (from elasticsearch<9.0.0,>=8.12.0->llama-index-embeddings-elasticsearch) (8.17.1)\n",
      "Requirement already satisfied: python-dateutil in c:\\users\\administrator\\appdata\\roaming\\python\\python313\\site-packages (from elasticsearch<9.0.0,>=8.12.0->llama-index-embeddings-elasticsearch) (2.9.0.post0)\n",
      "Requirement already satisfied: anyio in c:\\users\\administrator\\appdata\\local\\programs\\python\\python313\\lib\\site-packages (from httpx->llama-index-core) (4.9.0)\n",
      "Requirement already satisfied: certifi in c:\\users\\administrator\\appdata\\local\\programs\\python\\python313\\lib\\site-packages (from httpx->llama-index-core) (2025.4.26)\n",
      "Requirement already satisfied: httpcore==1.* in c:\\users\\administrator\\appdata\\local\\programs\\python\\python313\\lib\\site-packages (from httpx->llama-index-core) (1.0.9)\n",
      "Requirement already satisfied: idna in c:\\users\\administrator\\appdata\\local\\programs\\python\\python313\\lib\\site-packages (from httpx->llama-index-core) (3.10)\n",
      "Requirement already satisfied: h11>=0.16 in c:\\users\\administrator\\appdata\\local\\programs\\python\\python313\\lib\\site-packages (from httpcore==1.*->httpx->llama-index-core) (0.16.0)\n",
      "Requirement already satisfied: llama-cloud<0.2.0,>=0.1.13 in c:\\users\\administrator\\appdata\\local\\programs\\python\\python313\\lib\\site-packages (from llama-index-indices-managed-llama-cloud>=0.4.0->llama-index) (0.1.19)\n",
      "Requirement already satisfied: llama-parse>=0.5.0 in c:\\users\\administrator\\appdata\\local\\programs\\python\\python313\\lib\\site-packages (from llama-index-readers-llama-parse>=0.4.0->llama-index) (0.6.22)\n",
      "Requirement already satisfied: click in c:\\users\\administrator\\appdata\\local\\programs\\python\\python313\\lib\\site-packages (from nltk>3.8.1->llama-index) (8.1.8)\n",
      "Requirement already satisfied: joblib in c:\\users\\administrator\\appdata\\local\\programs\\python\\python313\\lib\\site-packages (from nltk>3.8.1->llama-index) (1.5.0)\n",
      "Requirement already satisfied: regex>=2021.8.3 in c:\\users\\administrator\\appdata\\local\\programs\\python\\python313\\lib\\site-packages (from nltk>3.8.1->llama-index) (2024.11.6)\n",
      "Requirement already satisfied: distro<2,>=1.7.0 in c:\\users\\administrator\\appdata\\local\\programs\\python\\python313\\lib\\site-packages (from openai>=1.1.0->llama-index-legacy) (1.9.0)\n",
      "Requirement already satisfied: jiter<1,>=0.4.0 in c:\\users\\administrator\\appdata\\local\\programs\\python\\python313\\lib\\site-packages (from openai>=1.1.0->llama-index-legacy) (0.9.0)\n",
      "Requirement already satisfied: sniffio in c:\\users\\administrator\\appdata\\local\\programs\\python\\python313\\lib\\site-packages (from openai>=1.1.0->llama-index-legacy) (1.3.1)\n",
      "Requirement already satisfied: annotated-types>=0.6.0 in c:\\users\\administrator\\appdata\\local\\programs\\python\\python313\\lib\\site-packages (from pydantic>=2.8.0->llama-index-core) (0.7.0)\n",
      "Requirement already satisfied: pydantic-core==2.33.2 in c:\\users\\administrator\\appdata\\local\\programs\\python\\python313\\lib\\site-packages (from pydantic>=2.8.0->llama-index-core) (2.33.2)\n",
      "Requirement already satisfied: typing-inspection>=0.4.0 in c:\\users\\administrator\\appdata\\local\\programs\\python\\python313\\lib\\site-packages (from pydantic>=2.8.0->llama-index-core) (0.4.0)\n",
      "Requirement already satisfied: charset-normalizer<4,>=2 in c:\\users\\administrator\\appdata\\local\\programs\\python\\python313\\lib\\site-packages (from requests>=2.31.0->llama-index-core) (3.4.2)\n",
      "Requirement already satisfied: urllib3<3,>=1.21.1 in c:\\users\\administrator\\appdata\\local\\programs\\python\\python313\\lib\\site-packages (from requests>=2.31.0->llama-index-core) (2.4.0)\n",
      "Requirement already satisfied: greenlet>=1 in c:\\users\\administrator\\appdata\\local\\programs\\python\\python313\\lib\\site-packages (from sqlalchemy>=1.4.49->sqlalchemy[asyncio]>=1.4.49->llama-index-core) (3.2.2)\n",
      "Requirement already satisfied: colorama in c:\\users\\administrator\\appdata\\roaming\\python\\python313\\site-packages (from tqdm<5,>=4.66.1->llama-index-core) (0.4.6)\n",
      "Requirement already satisfied: mypy-extensions>=0.3.0 in c:\\users\\administrator\\appdata\\local\\programs\\python\\python313\\lib\\site-packages (from typing-inspect>=0.8.0->llama-index-core) (1.1.0)\n",
      "Requirement already satisfied: marshmallow<4.0.0,>=3.18.0 in c:\\users\\administrator\\appdata\\local\\programs\\python\\python313\\lib\\site-packages (from dataclasses-json->llama-index-core) (3.26.1)\n",
      "Requirement already satisfied: pytz>=2020.1 in c:\\users\\administrator\\appdata\\local\\programs\\python\\python313\\lib\\site-packages (from pandas->llama-index-legacy) (2025.2)\n",
      "Requirement already satisfied: tzdata>=2022.7 in c:\\users\\administrator\\appdata\\local\\programs\\python\\python313\\lib\\site-packages (from pandas->llama-index-legacy) (2025.2)\n",
      "Requirement already satisfied: llama-cloud-services>=0.6.22 in c:\\users\\administrator\\appdata\\local\\programs\\python\\python313\\lib\\site-packages (from llama-parse>=0.5.0->llama-index-readers-llama-parse>=0.4.0->llama-index) (0.6.22)\n",
      "Requirement already satisfied: packaging>=17.0 in c:\\users\\administrator\\appdata\\roaming\\python\\python313\\site-packages (from marshmallow<4.0.0,>=3.18.0->dataclasses-json->llama-index-core) (25.0)\n",
      "Requirement already satisfied: six>=1.5 in c:\\users\\administrator\\appdata\\roaming\\python\\python313\\site-packages (from python-dateutil->elasticsearch<9.0.0,>=8.12.0->llama-index-embeddings-elasticsearch) (1.17.0)\n",
      "Requirement already satisfied: MarkupSafe>=2.0 in c:\\users\\administrator\\appdata\\local\\programs\\python\\python313\\lib\\site-packages (from jinja2->banks<3,>=2.0.0->llama-index-core) (3.0.2)\n",
      "Requirement already satisfied: python-dotenv<2.0.0,>=1.0.1 in c:\\users\\administrator\\appdata\\local\\programs\\python\\python313\\lib\\site-packages (from llama-cloud-services>=0.6.22->llama-parse>=0.5.0->llama-index-readers-llama-parse>=0.4.0->llama-index) (1.1.0)\n"
     ]
    },
    {
     "name": "stderr",
     "output_type": "stream",
     "text": [
      "\n",
      "[notice] A new release of pip is available: 25.0.1 -> 25.1.1\n",
      "[notice] To update, run: python.exe -m pip install --upgrade pip\n"
     ]
    }
   ],
   "source": [
    "!pip install llama-index llama-index-cli llama-index-core llama-index-embeddings-elasticsearch llama-index-embeddings-ollama llama-index-legacy llama-index-llms-ollama llama-index-readers-elasticsearch llama-index-readers-file llama-index-vector-stores-elasticsearch llamaindex-py-client"
   ]
  },
  {
   "cell_type": "markdown",
   "id": "ac6d83485e810a2",
   "metadata": {},
   "source": [
    "## Import packages\n",
    "Next we import the required packages as required. The imports are placed in the cells as required."
   ]
  },
  {
   "cell_type": "markdown",
   "id": "8fa1c4a9752298f9",
   "metadata": {},
   "source": [
    "## Prompt user to provide Cloud ID and API Key\n",
    "We now prompt the user to provide us Cloud ID and API Key using `getpass`. We get these details from the deployment. "
   ]
  },
  {
   "cell_type": "code",
   "execution_count": null,
   "id": "5093cfb9b0688aa1",
   "metadata": {
    "ExecuteTime": {
     "end_time": "2024-06-04T16:39:54.371586Z",
     "start_time": "2024-06-04T16:39:45.628377Z"
    }
   },
   "outputs": [],
   "source": [
    "from getpass import getpass\n",
    "\n",
    "\n",
    "# https://www.elastic.co/search-labs/tutorials/install-elasticsearch/elastic-cloud#finding-your-cloud-id\n",
    "#ELASTIC_CLOUD_ID = getpass(\"Elastic Cloud ID: \")\n",
    "\n",
    "# https://www.elastic.co/search-labs/tutorials/install-elasticsearch/elastic-cloud#creating-an-api-key\n",
    "ELASTIC_API_KEY = \"-\""
   ]
  },
  {
   "cell_type": "markdown",
   "id": "24b1abd62ac05d07",
   "metadata": {},
   "source": [
    "## Prepare documents for chunking and ingestion\n",
    "We now prepare the data to be in the [Document](https://docs.llamaindex.ai/en/stable/module_guides/loading/documents_and_nodes/) type for processing using [Llamaindex](https://docs.llamaindex.ai/en/stable/) "
   ]
  },
  {
   "cell_type": "code",
   "execution_count": 4,
   "id": "a7d3aa4eb6faaa2d",
   "metadata": {
    "ExecuteTime": {
     "end_time": "2024-06-04T17:24:13.041109Z",
     "start_time": "2024-06-04T17:24:12.826203Z"
    }
   },
   "outputs": [],
   "source": [
    "import json\n",
    "from urllib.request import urlopen\n",
    "from llama_index.core import Document\n",
    "\n",
    "url = \"https://raw.githubusercontent.com/elastic/elasticsearch-labs/main/datasets/workplace-documents.json\"\n",
    "\n",
    "response = urlopen(url)\n",
    "workplace_docs = json.loads(response.read())\n",
    "\n",
    "# Building Document required by LlamaIndex.\n",
    "documents = [\n",
    "    Document(\n",
    "        text=doc[\"content\"],\n",
    "        metadata={\n",
    "            \"name\": doc[\"name\"],\n",
    "            \"summary\": doc[\"summary\"],\n",
    "            \"rolePermissions\": doc[\"rolePermissions\"],\n",
    "        },\n",
    "    )\n",
    "    for doc in workplace_docs\n",
    "]"
   ]
  },
  {
   "cell_type": "markdown",
   "id": "d39dd6e65a8ea3df",
   "metadata": {},
   "source": [
    "## Define Elasticsearch and ingest pipeline in LlamaIndex for document processing. Use Llama3 for generating embeddings.\n",
    "We now define the `Elasticsearchstore` with the required index name, the text field and its associated embeddings. We use `Llama3` to generate the embeddings. We will be running Semantic search on the index to find documents relevant to the query posed by the user. We will use the `SentenceSplitter` provided by `Llamaindex` to chunk the documents. All this is run as part of an `IngestionPipeline` provided by the `Llamaindex` framework."
   ]
  },
  {
   "cell_type": "code",
   "execution_count": 5,
   "id": "5abfbf4f8a1b5a35",
   "metadata": {
    "ExecuteTime": {
     "end_time": "2024-06-04T17:24:40.230008Z",
     "start_time": "2024-06-04T17:24:15.533532Z"
    }
   },
   "outputs": [
    {
     "name": "stderr",
     "output_type": "stream",
     "text": [
      "c:\\Users\\Administrator\\AppData\\Local\\Programs\\Python\\Python313\\Lib\\site-packages\\elasticsearch\\_async\\client\\__init__.py:403: SecurityWarning: Connecting to 'https://192.168.123.151:9200' using TLS with verify_certs=False is insecure\n",
      "  _transport = transport_class(\n"
     ]
    }
   ],
   "source": [
    "from llama_index.core.node_parser import SentenceSplitter\n",
    "from llama_index.core.ingestion import IngestionPipeline\n",
    "from llama_index.embeddings.ollama import OllamaEmbedding\n",
    "from llama_index.vector_stores.elasticsearch import ElasticsearchStore\n",
    "#from elasticsearch import Elasticsearch\n",
    "from elasticsearch import AsyncElasticsearch\n",
    "\n",
    "es = AsyncElasticsearch(\n",
    "    \"https://192.168.123.151:9200\",\n",
    "    api_key=ELASTIC_API_KEY,\n",
    "    verify_certs=False,\n",
    "    request_timeout=60\n",
    ")\n",
    "\n",
    "es_vector_store = ElasticsearchStore(\n",
    "    index_name=\"workplace_index\",\n",
    "    vector_field=\"content_vector\",\n",
    "    text_field=\"content\",\n",
    "    #es_url=\"https://192.168.123.151:9200\",\n",
    "    #es_cloud_id=ELASTIC_CLOUD_ID,\n",
    "    #es_api_key=ELASTIC_API_KEY,\n",
    "    es_client=es\n",
    ")\n"
   ]
  },
  {
   "cell_type": "code",
   "execution_count": 6,
   "id": "289a2da7",
   "metadata": {},
   "outputs": [
    {
     "name": "stdout",
     "output_type": "stream",
     "text": [
      "{'name': 'dongkook-es1', 'cluster_name': 'elastic8-dongkook', 'cluster_uuid': 'kVeFudZZTxWZ1VqUzNg4xA', 'version': {'number': '9.0.0', 'build_flavor': 'default', 'build_type': 'rpm', 'build_hash': '112859b85d50de2a7e63f73c8fc70b99eea24291', 'build_date': '2025-04-08T15:13:46.049795831Z', 'build_snapshot': False, 'lucene_version': '10.1.0', 'minimum_wire_compatibility_version': '8.18.0', 'minimum_index_compatibility_version': '8.0.0'}, 'tagline': 'You Know, for Search'}\n"
     ]
    },
    {
     "name": "stderr",
     "output_type": "stream",
     "text": [
      "c:\\Users\\Administrator\\AppData\\Local\\Programs\\Python\\Python313\\Lib\\site-packages\\elasticsearch\\_sync\\client\\__init__.py:403: SecurityWarning: Connecting to 'https://192.168.123.151:9200' using TLS with verify_certs=False is insecure\n",
      "  _transport = transport_class(\n",
      "c:\\Users\\Administrator\\AppData\\Local\\Programs\\Python\\Python313\\Lib\\site-packages\\urllib3\\connectionpool.py:1097: InsecureRequestWarning: Unverified HTTPS request is being made to host '192.168.123.151'. Adding certificate verification is strongly advised. See: https://urllib3.readthedocs.io/en/latest/advanced-usage.html#tls-warnings\n",
      "  warnings.warn(\n"
     ]
    }
   ],
   "source": [
    "\n",
    "# Elasticsearch 상태 확인\n",
    "from elasticsearch import Elasticsearch\n",
    "\n",
    "es = Elasticsearch(\"https://192.168.123.151:9200\", api_key=ELASTIC_API_KEY, verify_certs=False)\n",
    "\n",
    "print(es.info())\n"
   ]
  },
  {
   "cell_type": "code",
   "execution_count": 7,
   "id": "23d6ab06",
   "metadata": {},
   "outputs": [],
   "source": [
    "# Embedding Model to do local embedding using Ollama.\n",
    "ollama_embedding = OllamaEmbedding(\"exaone-deep:latest\")\n",
    "# LlamaIndex Pipeline configured to take care of chunking, embedding\n",
    "# and storing the embeddings in the vector store.\n",
    "pipeline = IngestionPipeline(\n",
    "    transformations=[\n",
    "        SentenceSplitter(chunk_size=512, chunk_overlap=100), # 수정하면서 돌려보기\n",
    "        ollama_embedding,\n",
    "    ],\n",
    "    vector_store=es_vector_store,\n",
    ")"
   ]
  },
  {
   "cell_type": "markdown",
   "id": "4b343865fcd1a742",
   "metadata": {},
   "source": [
    "## Execute pipeline \n",
    "This will chunk the data, generate embeddings using `Llama3` and ingest into `Elasticsearch` index, with embeddings in a `dense` vector field."
   ]
  },
  {
   "cell_type": "code",
   "execution_count": 8,
   "id": "3b498e38cbc25453",
   "metadata": {},
   "outputs": [],
   "source": [
    "pipeline.run(show_progress=True, documents=documents)"
   ]
  },
  {
   "cell_type": "markdown",
   "id": "301058b56643d4c5",
   "metadata": {},
   "source": [
    "The embeddings are stored in a dense vector field of dimension `4096`. The dimension size comes from the size of the embeddings generated from `Llama3`."
   ]
  },
  {
   "cell_type": "markdown",
   "id": "ee297886dd4e6396",
   "metadata": {},
   "source": [
    "## Define LLM settings. \n",
    "This connects to your local LLM. Please refer to https://ollama.com/library/llama3 for details on steps to run Llama3 locally. \n",
    "\n",
    "_If you have sufficient resources (atleast >64 GB Ram and GPU available) then you could try the 70B parameter version of Llama3_ "
   ]
  },
  {
   "cell_type": "code",
   "execution_count": 9,
   "id": "eaee053103a55f39",
   "metadata": {},
   "outputs": [],
   "source": [
    "from llama_index.llms.ollama import Ollama\n",
    "from llama_index.core import Settings\n",
    "\n",
    "Settings.embed_model = ollama_embedding\n",
    "local_llm = Ollama(\n",
    "    model=\"exaone-deep:latest\",\n",
    "    request_timeout=600\n",
    ")"
   ]
  },
  {
   "cell_type": "markdown",
   "id": "e22ed3f0b11c4bb5",
   "metadata": {},
   "source": [
    "### Setup Semantic search and integrate with Llama3. \n",
    "We now configure `Elasticsearch` as the vector store for the `Llamaindex` query engine. The query engine, using `Llama3` is then used to answer your questions with contextually relevant data from `Elasticsearch`."
   ]
  },
  {
   "cell_type": "code",
   "execution_count": 10,
   "id": "22e96628ac44f20d",
   "metadata": {},
   "outputs": [
    {
     "name": "stdout",
     "output_type": "stream",
     "text": [
      "<thought>\n",
      "\n",
      "Okay, let me try to figure this out. The user is asking about the organization's sales goals based on the provided context. I need to look through the context information given and extract the relevant details.\n",
      "\n",
      "First, I'll scan through each document in the context. The first document is the \"Sales Organization Overview\" which mentions the structure of the sales regions and their roles. However, the sales goals aren't mentioned here. The next document is the \"Fy2024 Company Sales Strategy\" which seems more promising. Let me read that carefully.\n",
      "\n",
      "The summary states that the primary goal is to increase revenue, expand market share, and strengthen customer relationships in target markets. Then under the sections C, D, and IV, there are more details. The C. Partner Ecosystem section talks about strengthening partnerships and expanding market reach. The D. Customer Success section mentions improving retention and satisfaction. The IV. Monitoring and Evaluation section sets KPIs and reviews. \n",
      "\n",
      "The user's question is specifically about the sales goals. The main objectives listed in the summary are increasing revenue, expanding market share, and strengthening customer relationships. The other points under C, D, and IV are strategies to achieve those goals, but the primary objectives are mentioned right at the start. \n",
      "\n",
      "I should make sure there's no other document that mentions sales goals. The other documents like \"Updating Your Tax Elections Forms\" and \"Swe Career Matrix\" don't talk about sales objectives. So the answer should focus on the Fy2024 Company Sales Strategy's primary goals. \n",
      "\n",
      "Wait, the user might be looking for more specific goals beyond the overall objectives. Let me check again. The summary says \"increase revenue, expand market share, and strengthen customer relationships.\" Then in the sections, Partner Ecosystem and Customer Success are key areas. But the question is about the organization's sales goals, which are likely the three mentioned in the summary. The other points are strategies to achieve them, not additional goals. \n",
      "\n",
      "Therefore, the answer should list those three as the sales goals based on the context provided.\n",
      "</thought>\n",
      "\n",
      "The organization's sales goals for FY24, as outlined in the *Fy2024 Company Sales Strategy* document, are to:  \n",
      "1. **Increase revenue** through strategic sales operations.  \n",
      "2. **Expand market share** in target markets by growing customer base and penetration.  \n",
      "3. **Strengthen customer relationships** via retention and satisfaction improvements.  \n",
      "\n",
      "These objectives are further supported by strategies like engaging in industry events, collaborating with partners, and implementing customer success programs.\n"
     ]
    }
   ],
   "source": [
    "from llama_index.core import VectorStoreIndex, QueryBundle\n",
    "\n",
    "index = VectorStoreIndex.from_vector_store(es_vector_store)\n",
    "query_engine = index.as_query_engine(local_llm, similarity_top_k=5)\n",
    "\n",
    "# Customer Query\n",
    "#query = \"What are the organizations sales goals?\"\n",
    "query = \"Based on the document, what are the organization's sales goals?\"\n",
    "bundle = QueryBundle(\n",
    "    query_str=query, embedding=Settings.embed_model.get_query_embedding(query=query)\n",
    ")\n",
    "\n",
    "response = query_engine.query(bundle)\n",
    "\n",
    "print(response.response)"
   ]
  },
  {
   "cell_type": "markdown",
   "id": "b240b425f3b1ceae",
   "metadata": {},
   "source": [
    "_You could now try experimenting with other questions._"
   ]
  },
  {
   "cell_type": "code",
   "execution_count": null,
   "id": "1b60a01c",
   "metadata": {},
   "outputs": [
    {
     "data": {
      "text/html": [
       "<pre style=\"white-space:pre;overflow-x:auto;line-height:normal;font-family:Menlo,'DejaVu Sans Mono',consolas,'Courier New',monospace\">✨ You're running DeepEval's latest <span style=\"color: #6a00ff; text-decoration-color: #6a00ff\">Contextual Recall Metric</span>! <span style=\"color: #374151; text-decoration-color: #374151; font-weight: bold\">(</span><span style=\"color: #374151; text-decoration-color: #374151\">using gpt-</span><span style=\"color: #374151; text-decoration-color: #374151; font-weight: bold\">3.5</span><span style=\"color: #374151; text-decoration-color: #374151\">-turbo, </span><span style=\"color: #374151; text-decoration-color: #374151\">strict</span><span style=\"color: #374151; text-decoration-color: #374151\">=</span><span style=\"color: #374151; text-decoration-color: #374151; font-style: italic\">False</span><span style=\"color: #374151; text-decoration-color: #374151\">, </span>\n",
       "<span style=\"color: #374151; text-decoration-color: #374151\">async_mode</span><span style=\"color: #374151; text-decoration-color: #374151\">=</span><span style=\"color: #374151; text-decoration-color: #374151; font-style: italic\">True</span><span style=\"color: #374151; text-decoration-color: #374151; font-weight: bold\">)</span><span style=\"color: #374151; text-decoration-color: #374151\">...</span>\n",
       "</pre>\n"
      ],
      "text/plain": [
       "✨ You're running DeepEval's latest \u001b[38;2;106;0;255mContextual Recall Metric\u001b[0m! \u001b[1;38;2;55;65;81m(\u001b[0m\u001b[38;2;55;65;81musing gpt-\u001b[0m\u001b[1;38;2;55;65;81m3.5\u001b[0m\u001b[38;2;55;65;81m-turbo, \u001b[0m\u001b[38;2;55;65;81mstrict\u001b[0m\u001b[38;2;55;65;81m=\u001b[0m\u001b[3;38;2;55;65;81mFalse\u001b[0m\u001b[38;2;55;65;81m, \u001b[0m\n",
       "\u001b[38;2;55;65;81masync_mode\u001b[0m\u001b[38;2;55;65;81m=\u001b[0m\u001b[3;38;2;55;65;81mTrue\u001b[0m\u001b[1;38;2;55;65;81m)\u001b[0m\u001b[38;2;55;65;81m...\u001b[0m\n"
      ]
     },
     "metadata": {},
     "output_type": "display_data"
    },
    {
     "data": {
      "text/html": [
       "<pre style=\"white-space:pre;overflow-x:auto;line-height:normal;font-family:Menlo,'DejaVu Sans Mono',consolas,'Courier New',monospace\">✨ You're running DeepEval's latest <span style=\"color: #6a00ff; text-decoration-color: #6a00ff\">Contextual Precision Metric</span>! <span style=\"color: #374151; text-decoration-color: #374151; font-weight: bold\">(</span><span style=\"color: #374151; text-decoration-color: #374151\">using gpt-</span><span style=\"color: #374151; text-decoration-color: #374151; font-weight: bold\">3.5</span><span style=\"color: #374151; text-decoration-color: #374151\">-turbo, </span><span style=\"color: #374151; text-decoration-color: #374151\">strict</span><span style=\"color: #374151; text-decoration-color: #374151\">=</span><span style=\"color: #374151; text-decoration-color: #374151; font-style: italic\">False</span><span style=\"color: #374151; text-decoration-color: #374151\">, </span>\n",
       "<span style=\"color: #374151; text-decoration-color: #374151\">async_mode</span><span style=\"color: #374151; text-decoration-color: #374151\">=</span><span style=\"color: #374151; text-decoration-color: #374151; font-style: italic\">True</span><span style=\"color: #374151; text-decoration-color: #374151; font-weight: bold\">)</span><span style=\"color: #374151; text-decoration-color: #374151\">...</span>\n",
       "</pre>\n"
      ],
      "text/plain": [
       "✨ You're running DeepEval's latest \u001b[38;2;106;0;255mContextual Precision Metric\u001b[0m! \u001b[1;38;2;55;65;81m(\u001b[0m\u001b[38;2;55;65;81musing gpt-\u001b[0m\u001b[1;38;2;55;65;81m3.5\u001b[0m\u001b[38;2;55;65;81m-turbo, \u001b[0m\u001b[38;2;55;65;81mstrict\u001b[0m\u001b[38;2;55;65;81m=\u001b[0m\u001b[3;38;2;55;65;81mFalse\u001b[0m\u001b[38;2;55;65;81m, \u001b[0m\n",
       "\u001b[38;2;55;65;81masync_mode\u001b[0m\u001b[38;2;55;65;81m=\u001b[0m\u001b[3;38;2;55;65;81mTrue\u001b[0m\u001b[1;38;2;55;65;81m)\u001b[0m\u001b[38;2;55;65;81m...\u001b[0m\n"
      ]
     },
     "metadata": {},
     "output_type": "display_data"
    },
    {
     "data": {
      "text/html": [
       "<pre style=\"white-space:pre;overflow-x:auto;line-height:normal;font-family:Menlo,'DejaVu Sans Mono',consolas,'Courier New',monospace\">✨ You're running DeepEval's latest <span style=\"color: #6a00ff; text-decoration-color: #6a00ff\">Contextual Relevancy Metric</span>! <span style=\"color: #374151; text-decoration-color: #374151; font-weight: bold\">(</span><span style=\"color: #374151; text-decoration-color: #374151\">using gpt-</span><span style=\"color: #374151; text-decoration-color: #374151; font-weight: bold\">3.5</span><span style=\"color: #374151; text-decoration-color: #374151\">-turbo, </span><span style=\"color: #374151; text-decoration-color: #374151\">strict</span><span style=\"color: #374151; text-decoration-color: #374151\">=</span><span style=\"color: #374151; text-decoration-color: #374151; font-style: italic\">False</span><span style=\"color: #374151; text-decoration-color: #374151\">, </span>\n",
       "<span style=\"color: #374151; text-decoration-color: #374151\">async_mode</span><span style=\"color: #374151; text-decoration-color: #374151\">=</span><span style=\"color: #374151; text-decoration-color: #374151; font-style: italic\">True</span><span style=\"color: #374151; text-decoration-color: #374151; font-weight: bold\">)</span><span style=\"color: #374151; text-decoration-color: #374151\">...</span>\n",
       "</pre>\n"
      ],
      "text/plain": [
       "✨ You're running DeepEval's latest \u001b[38;2;106;0;255mContextual Relevancy Metric\u001b[0m! \u001b[1;38;2;55;65;81m(\u001b[0m\u001b[38;2;55;65;81musing gpt-\u001b[0m\u001b[1;38;2;55;65;81m3.5\u001b[0m\u001b[38;2;55;65;81m-turbo, \u001b[0m\u001b[38;2;55;65;81mstrict\u001b[0m\u001b[38;2;55;65;81m=\u001b[0m\u001b[3;38;2;55;65;81mFalse\u001b[0m\u001b[38;2;55;65;81m, \u001b[0m\n",
       "\u001b[38;2;55;65;81masync_mode\u001b[0m\u001b[38;2;55;65;81m=\u001b[0m\u001b[3;38;2;55;65;81mTrue\u001b[0m\u001b[1;38;2;55;65;81m)\u001b[0m\u001b[38;2;55;65;81m...\u001b[0m\n"
      ]
     },
     "metadata": {},
     "output_type": "display_data"
    },
    {
     "name": "stderr",
     "output_type": "stream",
     "text": [
      "Evaluating 1 test case(s) in parallel: |██████████|100% (1/1) [Time Taken: 00:08,  8.96s/test case]"
     ]
    },
    {
     "name": "stdout",
     "output_type": "stream",
     "text": [
      "\n",
      "======================================================================\n",
      "\n",
      "Metrics Summary\n",
      "\n",
      "  - ❌ Contextual Recall (score: 0.0, threshold: 0.5, strict: False, evaluation model: gpt-3.5-turbo, reason: The score is 0.00 because the expected output does not align with any parts of the retrieval context., error: None)\n",
      "  - ✅ Contextual Precision (score: 0.5, threshold: 0.5, strict: False, evaluation model: gpt-3.5-turbo, reason: The score is 0.50 because the relevant nodes, such as the second node which outlines the sales strategy for fiscal year 2024, are ranked higher than irrelevant nodes like the first, third, fourth, and fifth nodes., error: None)\n",
      "  - ❌ Contextual Relevancy (score: 0.0, threshold: 0.5, strict: False, evaluation model: gpt-3.5-turbo, reason: The score is 0.00 because the retrieval context does not contain any statements relevant to the input, focusing instead on various aspects of the organization's structure, objectives, and activities that do not directly address the sales goals., error: None)\n",
      "\n",
      "For test case:\n",
      "\n",
      "  - input: Based on the document, what are the organization's sales goals?\n",
      "  - actual output: <thought>\n",
      "\n",
      "Okay, let me try to figure this out. The user is asking about the organization's sales goals based on the provided context. I need to look through the context information given and extract the relevant details.\n",
      "\n",
      "First, I'll scan through each document in the context. The first document is the \"Sales Organization Overview\" which mentions the structure of the sales regions and their roles. However, the sales goals aren't mentioned here. The next document is the \"Fy2024 Company Sales Strategy\" which seems more promising. Let me read that carefully.\n",
      "\n",
      "The summary states that the primary goal is to increase revenue, expand market share, and strengthen customer relationships in target markets. Then under the sections C, D, and IV, there are more details. The C. Partner Ecosystem section talks about strengthening partnerships and expanding market reach. The D. Customer Success section mentions improving retention and satisfaction. The IV. Monitoring and Evaluation section sets KPIs and reviews. \n",
      "\n",
      "The user's question is specifically about the sales goals. The main objectives listed in the summary are increasing revenue, expanding market share, and strengthening customer relationships. The other points under C, D, and IV are strategies to achieve those goals, but the primary objectives are mentioned right at the start. \n",
      "\n",
      "I should make sure there's no other document that mentions sales goals. The other documents like \"Updating Your Tax Elections Forms\" and \"Swe Career Matrix\" don't talk about sales objectives. So the answer should focus on the Fy2024 Company Sales Strategy's primary goals. \n",
      "\n",
      "Wait, the user might be looking for more specific goals beyond the overall objectives. Let me check again. The summary says \"increase revenue, expand market share, and strengthen customer relationships.\" Then in the sections, Partner Ecosystem and Customer Success are key areas. But the question is about the organization's sales goals, which are likely the three mentioned in the summary. The other points are strategies to achieve them, not additional goals. \n",
      "\n",
      "Therefore, the answer should list those three as the sales goals based on the context provided.\n",
      "</thought>\n",
      "\n",
      "The organization's sales goals for FY24, as outlined in the *Fy2024 Company Sales Strategy* document, are to:  \n",
      "1. **Increase revenue** through strategic sales operations.  \n",
      "2. **Expand market share** in target markets by growing customer base and penetration.  \n",
      "3. **Strengthen customer relationships** via retention and satisfaction improvements.  \n",
      "\n",
      "These objectives are further supported by strategies like engaging in industry events, collaborating with partners, and implementing customer success programs.\n",
      "  - expected output: Increase revenue by 20% compared to fiscal year 2023, expand market share in segments by 15%, retain 95% of existing customers, and increase customer satisfaction ratings.\n",
      "  - context: None\n",
      "  - retrieval context: ['Our sales organization is structured to effectively serve our customers and achieve our business objectives across multiple regions. The organization is divided into the following main regions:\\n\\nThe Americas: This region includes the United States, Canada, Mexico, as well as Central and South America. The North America South America region (NASA) has two Area Vice-Presidents: Laura Martinez is the Area Vice-President of North America, and Gary Johnson is the Area Vice-President of South America.\\n\\nEurope: Our European sales team covers the entire continent, including the United Kingdom, Germany, France, Spain, Italy, and other countries. The team is responsible for understanding the unique market dynamics and cultural nuances, enabling them to effectively target and engage with customers across the region. The Area Vice-President for Europe is Rajesh Patel.\\nAsia-Pacific: This region encompasses countries such as China, Japan, South Korea, India, Australia, and New Zealand. Our sales team in the Asia-Pacific region works diligently to capitalize on growth opportunities and address the diverse needs of customers in this vast and rapidly evolving market. The Area Vice-President for Asia-Pacific is Mei Li.\\nMiddle East & Africa: This region comprises countries across the Middle East and Africa, such as the United Arab Emirates, Saudi Arabia, South Africa, and Nigeria. Our sales team in this region is responsible for navigating the unique market challenges and identifying opportunities to expand our presence and better serve our customers. The Area Vice-President for Middle East & Africa is Jamal Abdi.\\n\\nEach regional sales team consists of dedicated account managers, sales representatives, and support staff, led by their respective Area Vice-Presidents. They are responsible for identifying and pursuing new business opportunities, nurturing existing client relationships, and ensuring customer satisfaction. The teams collaborate closely with other departments, such as marketing, product development, and customer support, to ensure we consistently deliver high-quality products and services to our clients.', 'Participate in industry events and trade shows to showcase our products and services.\\n\\nC. Partner Ecosystem:\\nStrengthen existing partnerships and establish new strategic alliances to expand market reach.\\nCollaborate with partners on joint marketing and sales initiatives.\\nProvide partner training and support to ensure they effectively represent our products and services.\\n\\nD. Customer Success:\\nImplement a proactive customer success program to improve customer retention and satisfaction.\\nDevelop a dedicated customer support team to address customer inquiries and concerns promptly.\\nCollect and analyze customer feedback to identify areas for improvement in our products, services, and processes.\\n\\nIV. Monitoring and Evaluation\\nEstablish key performance indicators (KPIs) to track progress toward our objectives.\\nConduct regular sales team meetings to review performance, share best practices, and address challenges.\\nConduct quarterly reviews of our sales strategy to ensure alignment with market trends and adjust as needed.\\n\\nBy following this sales strategy for fiscal year 2024, our tech company aims to achieve significant growth and success in our target markets, while also providing exceptional value and service to our customers.', \"As an employee in Canada, it's essential to understand how to update your tax elections forms to ensure accurate tax deductions from your pay. This guide will help you navigate the process of updating your TD1 Personal Tax Credits Return form.\\n\\nStep 1: Access the TD1 form\\nThe TD1 form is available on the Canada Revenue Agency (CRA) website. Your employer might provide you with a paper copy or a link to the online form. You can access the form directly through the following link: https://www.canada.ca/en/revenue-agency/services/forms-publications/td1-personal-tax-credits-returns.html\\n\\nStep 2: Choose the correct form version\\nYou'll need to fill out the federal TD1 form and, if applicable, the provincial or territorial TD1 form. Select the appropriate version based on your province or territory of residence.\\n\\nStep 3: Download and open the form\\nFor the best experience, download and open the TD1 form in Adobe Reader. If you have visual impairments, consider using the large print version available on the CRA website.\\n\\nStep 4: Complete the form\\nFill out the form by entering your personal information, such as your name, Social Insurance Number (SIN), and address. Then, go through each section to claim any personal tax credits that apply to you. These credits may include:\\nBasic personal amount\\nAmount for an eligible dependant\\nAmount for infirm dependants age 18 or older\\nCaregiver amount\\nDisability amount\\nTuition and education amounts\\n\\nRead the instructions carefully for each section to ensure you claim the correct amounts.\\n\\nStep 5: Sign and date the form\\nOnce you've completed the form, sign and date it at the bottom.\\n\\nStep 6: Submit the form to your employer\\nSubmit the completed and signed TD1 form to your employer. You can either scan and send it electronically, or provide a printed copy. Your employer will use the information on your TD1 form to calculate the correct amount of tax to be deducted from your pay.\", 'Demonstrated ability to design and implement complex software solutions.\\nStrong leadership, mentoring, and collaboration skills.\\nExcellent problem-solving, analytical, and communication skills.\\nPrincipal Software Engineer\\n\\nResponsibilities:\\nLead the design, development, and maintenance of large-scale, mission-critical software applications and components.\\nProvide technical leadership and mentorship to software engineering teams.\\nDrive the adoption of advanced software development practices and technologies.\\nCollaborate with product management, architecture, and other stakeholders to define and deliver strategic software initiatives.\\nIdentify, troubleshoot, and resolve the most complex software defects and issues.\\nCreate and maintain technical documentation, including architectural designs and best practice guidelines.\\nRepresent [Company Name] as a thought leader in the software engineering community, including speaking at conferences, publishing articles, and contributing to open-source projects.\\n\\nSkills & Experience:\\nBachelor’s degree in Computer Science or a related field, or equivalent work experience.\\n10+ years of software development experience, with a focus on large-scale, mission-critical applications.\\nExpertise in multiple programming languages, technologies, and software development methodologies.\\nProven ability to lead and mentor high-performing software engineering teams.\\nExceptional problem-solving, analytical, and communication skills.\\nStrong business acumen and ability to influence decision-making at the executive level.\\n\\nBy following this career leveling matrix, we aim to support the growth and development of Software Engineers, enabling them to reach their full potential and contribute meaningfully to the success of the organization.', \"In these situations, it is important to:\\n\\na. Be prepared and understand the customer's needs and pain points.\\nb. Clearly explain the technical aspects of the product or solution in a simple language that the customer can understand.\\nc. Address any concerns or questions the customer may have.\\nContinuous Improvement:\\nActively seek feedback from the sales team regarding product performance, customer experiences, and market trends. Use this feedback to identify areas of improvement and collaborate with other engineers to enhance the product or service offerings.\\nMutual Respect and Support:\\nIt is essential to treat your colleagues in the sales team with respect and professionalism. Recognize and appreciate their efforts in promoting and selling the company's products and services. In turn, the sales team should also respect and appreciate the technical expertise and knowledge of the engineering team.\\n\\nBy working together, both the engineering and sales teams can contribute to the overall success of the company.\\n\\nConclusion:\\nCollaboration between engineers and the sales team is crucial for a tech company's success. By understanding each other's roles, maintaining effective communication, collaborating on projects, and supporting one another, both teams can work together to achieve the company's goals and ensure customer satisfaction.\"]\n",
      "\n",
      "======================================================================\n",
      "\n",
      "Overall Metric Pass Rates\n",
      "\n",
      "Contextual Recall: 0.00% pass rate\n",
      "Contextual Precision: 100.00% pass rate\n",
      "Contextual Relevancy: 0.00% pass rate\n",
      "\n",
      "======================================================================\n",
      "\n"
     ]
    },
    {
     "name": "stderr",
     "output_type": "stream",
     "text": [
      "\n"
     ]
    },
    {
     "data": {
      "text/html": [
       "<pre style=\"white-space:pre;overflow-x:auto;line-height:normal;font-family:Menlo,'DejaVu Sans Mono',consolas,'Courier New',monospace\">\n",
       "<span style=\"color: #05f58d; text-decoration-color: #05f58d\">✓</span> Tests finished 🎉! Run <span style=\"color: #008000; text-decoration-color: #008000; font-weight: bold\">'deepeval login'</span> to save and analyze evaluation results on Confident AI.\n",
       " \n",
       "✨👀 Looking for a place for your LLM test data to live 🏡❤️ ? Use <span style=\"color: #6a00ff; text-decoration-color: #6a00ff\">Confident AI</span> to get &amp; share testing reports, \n",
       "experiment with models/prompts, and catch regressions for your LLM system. Just run <span style=\"color: #008080; text-decoration-color: #008080\">'deepeval login'</span> in the CLI. \n",
       "\n",
       "</pre>\n"
      ],
      "text/plain": [
       "\n",
       "\u001b[38;2;5;245;141m✓\u001b[0m Tests finished 🎉! Run \u001b[1;32m'deepeval login'\u001b[0m to save and analyze evaluation results on Confident AI.\n",
       " \n",
       "✨👀 Looking for a place for your LLM test data to live 🏡❤️ ? Use \u001b[38;2;106;0;255mConfident AI\u001b[0m to get & share testing reports, \n",
       "experiment with models/prompts, and catch regressions for your LLM system. Just run \u001b[36m'deepeval login'\u001b[0m in the CLI. \n",
       "\n"
      ]
     },
     "metadata": {},
     "output_type": "display_data"
    },
    {
     "data": {
      "text/plain": [
       "EvaluationResult(test_results=[TestResult(name='test_case_0', success=False, metrics_data=[MetricData(name='Contextual Recall', threshold=0.5, success=False, score=0.0, reason='The score is 0.00 because the expected output does not align with any parts of the retrieval context.', strict_mode=False, evaluation_model='gpt-3.5-turbo', error=None, evaluation_cost=0.0014165, verbose_logs='Verdicts:\\n[\\n    {\\n        \"verdict\": \"no\",\\n        \"reason\": \"The sentence does not align with any parts of the retrieval context.\"\\n    },\\n    {\\n        \"verdict\": \"no\",\\n        \"reason\": \"The sentence does not align with any parts of the retrieval context.\"\\n    },\\n    {\\n        \"verdict\": \"no\",\\n        \"reason\": \"The sentence does not align with any parts of the retrieval context.\"\\n    },\\n    {\\n        \"verdict\": \"no\",\\n        \"reason\": \"The sentence does not align with any parts of the retrieval context.\"\\n    }\\n]'), MetricData(name='Contextual Precision', threshold=0.5, success=True, score=0.5, reason='The score is 0.50 because the relevant nodes, such as the second node which outlines the sales strategy for fiscal year 2024, are ranked higher than irrelevant nodes like the first, third, fourth, and fifth nodes.', strict_mode=False, evaluation_model='gpt-3.5-turbo', error=None, evaluation_cost=0.0017545, verbose_logs='Verdicts:\\n[\\n    {\\n        \"verdict\": \"no\",\\n        \"reason\": \"The context provides information about the structure of the sales organization and the regions it covers, but it does not directly address the organization\\'s sales goals.\"\\n    },\\n    {\\n        \"verdict\": \"yes\",\\n        \"reason\": \"The context outlines a sales strategy for fiscal year 2024, which includes goals such as increasing revenue by 20%, expanding market share by 15%, retaining 95% of existing customers, and increasing customer satisfaction ratings.\"\\n    },\\n    {\\n        \"verdict\": \"no\",\\n        \"reason\": \"The context discusses updating tax election forms in Canada and does not provide relevant information about the organization\\'s sales goals.\"\\n    },\\n    {\\n        \"verdict\": \"no\",\\n        \"reason\": \"The context describes the responsibilities and skills required for a Principal Software Engineer position, which is not related to the organization\\'s sales goals.\"\\n    },\\n    {\\n        \"verdict\": \"no\",\\n        \"reason\": \"The context emphasizes the importance of collaboration between engineering and sales teams but does not directly address the organization\\'s sales goals.\"\\n    }\\n]'), MetricData(name='Contextual Relevancy', threshold=0.5, success=False, score=0.0, reason=\"The score is 0.00 because the retrieval context does not contain any statements relevant to the input, focusing instead on various aspects of the organization's structure, objectives, and activities that do not directly address the sales goals.\", strict_mode=False, evaluation_model='gpt-3.5-turbo', error=None, evaluation_cost=0.0034960000000000004, verbose_logs='Verdicts:\\n[\\n    {\\n        \"verdicts\": [\\n            {\\n                \"statement\": \"Our sales organization is structured to effectively serve our customers and achieve our business objectives across multiple regions.\",\\n                \"verdict\": \"no\",\\n                \"reason\": \"The statement is about the structure and objectives of the sales organization, not specifically about the sales goals.\"\\n            },\\n            {\\n                \"statement\": \"The organization is divided into the following main regions: The Americas, Europe, Asia-Pacific, Middle East & Africa.\",\\n                \"verdict\": \"no\",\\n                \"reason\": \"The statement provides information about the regions the organization is divided into, not about the sales goals.\"\\n            },\\n            {\\n                \"statement\": \"Each regional sales team consists of dedicated account managers, sales representatives, and support staff, led by their respective Area Vice-Presidents.\",\\n                \"verdict\": \"no\",\\n                \"reason\": \"The statement describes the composition of regional sales teams, not the specific sales goals of the organization.\"\\n            }\\n        ]\\n    },\\n    {\\n        \"verdicts\": [\\n            {\\n                \"statement\": \"Participate in industry events and trade shows to showcase our products and services.\",\\n                \"verdict\": \"no\",\\n                \"reason\": \"The statement is not directly related to the organization\\'s sales goals, as it focuses on marketing and promotion activities rather than specific sales targets.\"\\n            },\\n            {\\n                \"statement\": \"Strengthen existing partnerships and establish new strategic alliances to expand market reach.\",\\n                \"verdict\": \"no\",\\n                \"reason\": \"The statement is related to expanding market reach through partnerships, but it does not specifically address the organization\\'s sales goals.\"\\n            },\\n            {\\n                \"statement\": \"Implement a proactive customer success program to improve customer retention and satisfaction.\",\\n                \"verdict\": \"no\",\\n                \"reason\": \"The statement focuses on customer success and satisfaction, which is important for sales indirectly, but it does not directly address the organization\\'s sales goals.\"\\n            },\\n            {\\n                \"statement\": \"Establish key performance indicators (KPIs) to track progress toward our objectives.\",\\n                \"verdict\": \"no\",\\n                \"reason\": \"The statement is related to monitoring and evaluation of objectives, which is important for tracking progress, but it does not specifically mention the organization\\'s sales goals.\"\\n            }\\n        ]\\n    },\\n    {\\n        \"verdicts\": [\\n            {\\n                \"statement\": \"Based on the document, what are the organization\\'s sales goals?\",\\n                \"verdict\": \"no\",\\n                \"reason\": \"The context provided is about updating tax election forms in Canada, and there is no mention of organization\\'s sales goals.\"\\n            }\\n        ]\\n    },\\n    {\\n        \"verdicts\": [\\n            {\\n                \"statement\": \"By following this career leveling matrix, we aim to support the growth and development of Software Engineers, enabling them to reach their full potential and contribute meaningfully to the success of the organization.\",\\n                \"verdict\": \"no\",\\n                \"reason\": \"The statement is not relevant to the question about the organization\\'s sales goals.\"\\n            }\\n        ]\\n    },\\n    {\\n        \"verdicts\": [\\n            {\\n                \"statement\": \"In these situations, it is important to: a. Be prepared and understand the customer\\'s needs and pain points. b. Clearly explain the technical aspects of the product or solution in a simple language that the customer can understand. c. Address any concerns or questions the customer may have.\",\\n                \"verdict\": \"no\",\\n                \"reason\": \"The statement does not provide information about the organization\\'s sales goals, it focuses on customer interaction and communication.\"\\n            },\\n            {\\n                \"statement\": \"Continuous Improvement: Actively seek feedback from the sales team regarding product performance, customer experiences, and market trends. Use this feedback to identify areas of improvement and collaborate with other engineers to enhance the product or service offerings.\",\\n                \"verdict\": \"no\",\\n                \"reason\": \"The statement discusses seeking feedback and collaboration for product improvement, not specifically about the organization\\'s sales goals.\"\\n            },\\n            {\\n                \"statement\": \"Mutual Respect and Support: It is essential to treat your colleagues in the sales team with respect and professionalism. Recognize and appreciate their efforts in promoting and selling the company\\'s products and services. In turn, the sales team should also respect and appreciate the technical expertise and knowledge of the engineering team.\",\\n                \"verdict\": \"no\",\\n                \"reason\": \"The statement emphasizes mutual respect and support between sales and engineering teams, not directly related to the organization\\'s sales goals.\"\\n            },\\n            {\\n                \"statement\": \"Collaboration between engineers and the sales team is crucial for a tech company\\'s success. By understanding each other\\'s roles, maintaining effective communication, collaborating on projects, and supporting one another, both teams can work together to achieve the company\\'s goals and ensure customer satisfaction.\",\\n                \"verdict\": \"no\",\\n                \"reason\": \"The statement highlights the importance of collaboration between engineers and sales teams for company success, but does not specifically mention the organization\\'s sales goals.\"\\n            }\\n        ]\\n    }\\n]')], conversational=False, multimodal=False, input=\"Based on the document, what are the organization's sales goals?\", actual_output='<thought>\\n\\nOkay, let me try to figure this out. The user is asking about the organization\\'s sales goals based on the provided context. I need to look through the context information given and extract the relevant details.\\n\\nFirst, I\\'ll scan through each document in the context. The first document is the \"Sales Organization Overview\" which mentions the structure of the sales regions and their roles. However, the sales goals aren\\'t mentioned here. The next document is the \"Fy2024 Company Sales Strategy\" which seems more promising. Let me read that carefully.\\n\\nThe summary states that the primary goal is to increase revenue, expand market share, and strengthen customer relationships in target markets. Then under the sections C, D, and IV, there are more details. The C. Partner Ecosystem section talks about strengthening partnerships and expanding market reach. The D. Customer Success section mentions improving retention and satisfaction. The IV. Monitoring and Evaluation section sets KPIs and reviews. \\n\\nThe user\\'s question is specifically about the sales goals. The main objectives listed in the summary are increasing revenue, expanding market share, and strengthening customer relationships. The other points under C, D, and IV are strategies to achieve those goals, but the primary objectives are mentioned right at the start. \\n\\nI should make sure there\\'s no other document that mentions sales goals. The other documents like \"Updating Your Tax Elections Forms\" and \"Swe Career Matrix\" don\\'t talk about sales objectives. So the answer should focus on the Fy2024 Company Sales Strategy\\'s primary goals. \\n\\nWait, the user might be looking for more specific goals beyond the overall objectives. Let me check again. The summary says \"increase revenue, expand market share, and strengthen customer relationships.\" Then in the sections, Partner Ecosystem and Customer Success are key areas. But the question is about the organization\\'s sales goals, which are likely the three mentioned in the summary. The other points are strategies to achieve them, not additional goals. \\n\\nTherefore, the answer should list those three as the sales goals based on the context provided.\\n</thought>\\n\\nThe organization\\'s sales goals for FY24, as outlined in the *Fy2024 Company Sales Strategy* document, are to:  \\n1. **Increase revenue** through strategic sales operations.  \\n2. **Expand market share** in target markets by growing customer base and penetration.  \\n3. **Strengthen customer relationships** via retention and satisfaction improvements.  \\n\\nThese objectives are further supported by strategies like engaging in industry events, collaborating with partners, and implementing customer success programs.', expected_output='Increase revenue by 20% compared to fiscal year 2023, expand market share in segments by 15%, retain 95% of existing customers, and increase customer satisfaction ratings.', context=None, retrieval_context=['Our sales organization is structured to effectively serve our customers and achieve our business objectives across multiple regions. The organization is divided into the following main regions:\\n\\nThe Americas: This region includes the United States, Canada, Mexico, as well as Central and South America. The North America South America region (NASA) has two Area Vice-Presidents: Laura Martinez is the Area Vice-President of North America, and Gary Johnson is the Area Vice-President of South America.\\n\\nEurope: Our European sales team covers the entire continent, including the United Kingdom, Germany, France, Spain, Italy, and other countries. The team is responsible for understanding the unique market dynamics and cultural nuances, enabling them to effectively target and engage with customers across the region. The Area Vice-President for Europe is Rajesh Patel.\\nAsia-Pacific: This region encompasses countries such as China, Japan, South Korea, India, Australia, and New Zealand. Our sales team in the Asia-Pacific region works diligently to capitalize on growth opportunities and address the diverse needs of customers in this vast and rapidly evolving market. The Area Vice-President for Asia-Pacific is Mei Li.\\nMiddle East & Africa: This region comprises countries across the Middle East and Africa, such as the United Arab Emirates, Saudi Arabia, South Africa, and Nigeria. Our sales team in this region is responsible for navigating the unique market challenges and identifying opportunities to expand our presence and better serve our customers. The Area Vice-President for Middle East & Africa is Jamal Abdi.\\n\\nEach regional sales team consists of dedicated account managers, sales representatives, and support staff, led by their respective Area Vice-Presidents. They are responsible for identifying and pursuing new business opportunities, nurturing existing client relationships, and ensuring customer satisfaction. The teams collaborate closely with other departments, such as marketing, product development, and customer support, to ensure we consistently deliver high-quality products and services to our clients.', 'Participate in industry events and trade shows to showcase our products and services.\\n\\nC. Partner Ecosystem:\\nStrengthen existing partnerships and establish new strategic alliances to expand market reach.\\nCollaborate with partners on joint marketing and sales initiatives.\\nProvide partner training and support to ensure they effectively represent our products and services.\\n\\nD. Customer Success:\\nImplement a proactive customer success program to improve customer retention and satisfaction.\\nDevelop a dedicated customer support team to address customer inquiries and concerns promptly.\\nCollect and analyze customer feedback to identify areas for improvement in our products, services, and processes.\\n\\nIV. Monitoring and Evaluation\\nEstablish key performance indicators (KPIs) to track progress toward our objectives.\\nConduct regular sales team meetings to review performance, share best practices, and address challenges.\\nConduct quarterly reviews of our sales strategy to ensure alignment with market trends and adjust as needed.\\n\\nBy following this sales strategy for fiscal year 2024, our tech company aims to achieve significant growth and success in our target markets, while also providing exceptional value and service to our customers.', \"As an employee in Canada, it's essential to understand how to update your tax elections forms to ensure accurate tax deductions from your pay. This guide will help you navigate the process of updating your TD1 Personal Tax Credits Return form.\\n\\nStep 1: Access the TD1 form\\nThe TD1 form is available on the Canada Revenue Agency (CRA) website. Your employer might provide you with a paper copy or a link to the online form. You can access the form directly through the following link: https://www.canada.ca/en/revenue-agency/services/forms-publications/td1-personal-tax-credits-returns.html\\n\\nStep 2: Choose the correct form version\\nYou'll need to fill out the federal TD1 form and, if applicable, the provincial or territorial TD1 form. Select the appropriate version based on your province or territory of residence.\\n\\nStep 3: Download and open the form\\nFor the best experience, download and open the TD1 form in Adobe Reader. If you have visual impairments, consider using the large print version available on the CRA website.\\n\\nStep 4: Complete the form\\nFill out the form by entering your personal information, such as your name, Social Insurance Number (SIN), and address. Then, go through each section to claim any personal tax credits that apply to you. These credits may include:\\nBasic personal amount\\nAmount for an eligible dependant\\nAmount for infirm dependants age 18 or older\\nCaregiver amount\\nDisability amount\\nTuition and education amounts\\n\\nRead the instructions carefully for each section to ensure you claim the correct amounts.\\n\\nStep 5: Sign and date the form\\nOnce you've completed the form, sign and date it at the bottom.\\n\\nStep 6: Submit the form to your employer\\nSubmit the completed and signed TD1 form to your employer. You can either scan and send it electronically, or provide a printed copy. Your employer will use the information on your TD1 form to calculate the correct amount of tax to be deducted from your pay.\", 'Demonstrated ability to design and implement complex software solutions.\\nStrong leadership, mentoring, and collaboration skills.\\nExcellent problem-solving, analytical, and communication skills.\\nPrincipal Software Engineer\\n\\nResponsibilities:\\nLead the design, development, and maintenance of large-scale, mission-critical software applications and components.\\nProvide technical leadership and mentorship to software engineering teams.\\nDrive the adoption of advanced software development practices and technologies.\\nCollaborate with product management, architecture, and other stakeholders to define and deliver strategic software initiatives.\\nIdentify, troubleshoot, and resolve the most complex software defects and issues.\\nCreate and maintain technical documentation, including architectural designs and best practice guidelines.\\nRepresent [Company Name] as a thought leader in the software engineering community, including speaking at conferences, publishing articles, and contributing to open-source projects.\\n\\nSkills & Experience:\\nBachelor’s degree in Computer Science or a related field, or equivalent work experience.\\n10+ years of software development experience, with a focus on large-scale, mission-critical applications.\\nExpertise in multiple programming languages, technologies, and software development methodologies.\\nProven ability to lead and mentor high-performing software engineering teams.\\nExceptional problem-solving, analytical, and communication skills.\\nStrong business acumen and ability to influence decision-making at the executive level.\\n\\nBy following this career leveling matrix, we aim to support the growth and development of Software Engineers, enabling them to reach their full potential and contribute meaningfully to the success of the organization.', \"In these situations, it is important to:\\n\\na. Be prepared and understand the customer's needs and pain points.\\nb. Clearly explain the technical aspects of the product or solution in a simple language that the customer can understand.\\nc. Address any concerns or questions the customer may have.\\nContinuous Improvement:\\nActively seek feedback from the sales team regarding product performance, customer experiences, and market trends. Use this feedback to identify areas of improvement and collaborate with other engineers to enhance the product or service offerings.\\nMutual Respect and Support:\\nIt is essential to treat your colleagues in the sales team with respect and professionalism. Recognize and appreciate their efforts in promoting and selling the company's products and services. In turn, the sales team should also respect and appreciate the technical expertise and knowledge of the engineering team.\\n\\nBy working together, both the engineering and sales teams can contribute to the overall success of the company.\\n\\nConclusion:\\nCollaboration between engineers and the sales team is crucial for a tech company's success. By understanding each other's roles, maintaining effective communication, collaborating on projects, and supporting one another, both teams can work together to achieve the company's goals and ensure customer satisfaction.\"], additional_metadata=None)], confident_link=None)"
      ]
     },
     "execution_count": 12,
     "metadata": {},
     "output_type": "execute_result"
    }
   ],
   "source": [
    "from deepeval.metrics import ContextualPrecisionMetric\n",
    "from deepeval.metrics import ContextualRecallMetric\n",
    "from deepeval.metrics import ContextualRelevancyMetric\n",
    "from deepeval import evaluate\n",
    "from deepeval.test_case import LLMTestCase\n",
    "import os\n",
    "\n",
    "os.environ[\"OPENAI_API_KEY\"] = \"-\"\n",
    "\n",
    "contextual_precision = ContextualPrecisionMetric(model=\"gpt-3.5-turbo\")\n",
    "contextual_recall = ContextualRecallMetric(model=\"gpt-3.5-turbo\")\n",
    "contextual_relevancy = ContextualRelevancyMetric(model=\"gpt-3.5-turbo\")\n",
    "\n",
    "input = query\n",
    "expected_output = \"Increase revenue by 20% compared to fiscal year 2023, expand market share in segments by 15%, retain 95% of existing customers, and increase customer satisfaction ratings.\"\n",
    "retrieval_context=[doc.text for doc in response.source_nodes]\n",
    "\n",
    "test_case = LLMTestCase(\n",
    "    input=input,\n",
    "    actual_output=response.response,\n",
    "    retrieval_context=retrieval_context,\n",
    "    expected_output=expected_output,\n",
    ")\n",
    "\n",
    "evaluate(\n",
    "    [test_case],\n",
    "    metrics=[contextual_recall, contextual_precision, contextual_relevancy]\n",
    ")"
   ]
  }
 ],
 "metadata": {
  "kernelspec": {
   "display_name": "Python 3",
   "language": "python",
   "name": "python3"
  },
  "language_info": {
   "codemirror_mode": {
    "name": "ipython",
    "version": 3
   },
   "file_extension": ".py",
   "mimetype": "text/x-python",
   "name": "python",
   "nbconvert_exporter": "python",
   "pygments_lexer": "ipython3",
   "version": "3.13.3"
  }
 },
 "nbformat": 4,
 "nbformat_minor": 5
}
